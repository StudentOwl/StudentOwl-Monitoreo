{
 "metadata": {
  "language_info": {
   "codemirror_mode": {
    "name": "ipython",
    "version": 3
   },
   "file_extension": ".py",
   "mimetype": "text/x-python",
   "name": "python",
   "nbconvert_exporter": "python",
   "pygments_lexer": "ipython3",
   "version": "3.9.0-final"
  },
  "orig_nbformat": 2,
  "kernelspec": {
   "name": "python3",
   "display_name": "Python 3.9.0 64-bit ('StudentOwl-Monitoreo-mXbKuN0u': venv)",
   "metadata": {
    "interpreter": {
     "hash": "dd381b7a8bb80ba6a4ce78ba26d4b0cacc6cbfcc68efc855a8eda91111c8b6c9"
    }
   }
  }
 },
 "nbformat": 4,
 "nbformat_minor": 2,
 "cells": [
  {
   "cell_type": "code",
   "execution_count": 1,
   "metadata": {},
   "outputs": [
    {
     "output_type": "display_data",
     "data": {
      "text/html": "\n    <div class=\"bk-root\">\n        <a href=\"https://bokeh.org\" target=\"_blank\" class=\"bk-logo bk-logo-small bk-logo-notebook\"></a>\n        <span id=\"1001\">Loading BokehJS ...</span>\n    </div>"
     },
     "metadata": {}
    },
    {
     "output_type": "display_data",
     "data": {
      "application/javascript": "\n(function(root) {\n  function now() {\n    return new Date();\n  }\n\n  var force = true;\n\n  if (typeof root._bokeh_onload_callbacks === \"undefined\" || force === true) {\n    root._bokeh_onload_callbacks = [];\n    root._bokeh_is_loading = undefined;\n  }\n\n  var JS_MIME_TYPE = 'application/javascript';\n  var HTML_MIME_TYPE = 'text/html';\n  var EXEC_MIME_TYPE = 'application/vnd.bokehjs_exec.v0+json';\n  var CLASS_NAME = 'output_bokeh rendered_html';\n\n  /**\n   * Render data to the DOM node\n   */\n  function render(props, node) {\n    var script = document.createElement(\"script\");\n    node.appendChild(script);\n  }\n\n  /**\n   * Handle when an output is cleared or removed\n   */\n  function handleClearOutput(event, handle) {\n    var cell = handle.cell;\n\n    var id = cell.output_area._bokeh_element_id;\n    var server_id = cell.output_area._bokeh_server_id;\n    // Clean up Bokeh references\n    if (id != null && id in Bokeh.index) {\n      Bokeh.index[id].model.document.clear();\n      delete Bokeh.index[id];\n    }\n\n    if (server_id !== undefined) {\n      // Clean up Bokeh references\n      var cmd = \"from bokeh.io.state import curstate; print(curstate().uuid_to_server['\" + server_id + \"'].get_sessions()[0].document.roots[0]._id)\";\n      cell.notebook.kernel.execute(cmd, {\n        iopub: {\n          output: function(msg) {\n            var id = msg.content.text.trim();\n            if (id in Bokeh.index) {\n              Bokeh.index[id].model.document.clear();\n              delete Bokeh.index[id];\n            }\n          }\n        }\n      });\n      // Destroy server and session\n      var cmd = \"import bokeh.io.notebook as ion; ion.destroy_server('\" + server_id + \"')\";\n      cell.notebook.kernel.execute(cmd);\n    }\n  }\n\n  /**\n   * Handle when a new output is added\n   */\n  function handleAddOutput(event, handle) {\n    var output_area = handle.output_area;\n    var output = handle.output;\n\n    // limit handleAddOutput to display_data with EXEC_MIME_TYPE content only\n    if ((output.output_type != \"display_data\") || (!output.data.hasOwnProperty(EXEC_MIME_TYPE))) {\n      return\n    }\n\n    var toinsert = output_area.element.find(\".\" + CLASS_NAME.split(' ')[0]);\n\n    if (output.metadata[EXEC_MIME_TYPE][\"id\"] !== undefined) {\n      toinsert[toinsert.length - 1].firstChild.textContent = output.data[JS_MIME_TYPE];\n      // store reference to embed id on output_area\n      output_area._bokeh_element_id = output.metadata[EXEC_MIME_TYPE][\"id\"];\n    }\n    if (output.metadata[EXEC_MIME_TYPE][\"server_id\"] !== undefined) {\n      var bk_div = document.createElement(\"div\");\n      bk_div.innerHTML = output.data[HTML_MIME_TYPE];\n      var script_attrs = bk_div.children[0].attributes;\n      for (var i = 0; i < script_attrs.length; i++) {\n        toinsert[toinsert.length - 1].firstChild.setAttribute(script_attrs[i].name, script_attrs[i].value);\n        toinsert[toinsert.length - 1].firstChild.textContent = bk_div.children[0].textContent\n      }\n      // store reference to server id on output_area\n      output_area._bokeh_server_id = output.metadata[EXEC_MIME_TYPE][\"server_id\"];\n    }\n  }\n\n  function register_renderer(events, OutputArea) {\n\n    function append_mime(data, metadata, element) {\n      // create a DOM node to render to\n      var toinsert = this.create_output_subarea(\n        metadata,\n        CLASS_NAME,\n        EXEC_MIME_TYPE\n      );\n      this.keyboard_manager.register_events(toinsert);\n      // Render to node\n      var props = {data: data, metadata: metadata[EXEC_MIME_TYPE]};\n      render(props, toinsert[toinsert.length - 1]);\n      element.append(toinsert);\n      return toinsert\n    }\n\n    /* Handle when an output is cleared or removed */\n    events.on('clear_output.CodeCell', handleClearOutput);\n    events.on('delete.Cell', handleClearOutput);\n\n    /* Handle when a new output is added */\n    events.on('output_added.OutputArea', handleAddOutput);\n\n    /**\n     * Register the mime type and append_mime function with output_area\n     */\n    OutputArea.prototype.register_mime_type(EXEC_MIME_TYPE, append_mime, {\n      /* Is output safe? */\n      safe: true,\n      /* Index of renderer in `output_area.display_order` */\n      index: 0\n    });\n  }\n\n  // register the mime type if in Jupyter Notebook environment and previously unregistered\n  if (root.Jupyter !== undefined) {\n    var events = require('base/js/events');\n    var OutputArea = require('notebook/js/outputarea').OutputArea;\n\n    if (OutputArea.prototype.mime_types().indexOf(EXEC_MIME_TYPE) == -1) {\n      register_renderer(events, OutputArea);\n    }\n  }\n\n  \n  if (typeof (root._bokeh_timeout) === \"undefined\" || force === true) {\n    root._bokeh_timeout = Date.now() + 5000;\n    root._bokeh_failed_load = false;\n  }\n\n  var NB_LOAD_WARNING = {'data': {'text/html':\n     \"<div style='background-color: #fdd'>\\n\"+\n     \"<p>\\n\"+\n     \"BokehJS does not appear to have successfully loaded. If loading BokehJS from CDN, this \\n\"+\n     \"may be due to a slow or bad network connection. Possible fixes:\\n\"+\n     \"</p>\\n\"+\n     \"<ul>\\n\"+\n     \"<li>re-rerun `output_notebook()` to attempt to load from CDN again, or</li>\\n\"+\n     \"<li>use INLINE resources instead, as so:</li>\\n\"+\n     \"</ul>\\n\"+\n     \"<code>\\n\"+\n     \"from bokeh.resources import INLINE\\n\"+\n     \"output_notebook(resources=INLINE)\\n\"+\n     \"</code>\\n\"+\n     \"</div>\"}};\n\n  function display_loaded() {\n    var el = document.getElementById(\"1001\");\n    if (el != null) {\n      el.textContent = \"BokehJS is loading...\";\n    }\n    if (root.Bokeh !== undefined) {\n      if (el != null) {\n        el.textContent = \"BokehJS \" + root.Bokeh.version + \" successfully loaded.\";\n      }\n    } else if (Date.now() < root._bokeh_timeout) {\n      setTimeout(display_loaded, 100)\n    }\n  }\n\n\n  function run_callbacks() {\n    try {\n      root._bokeh_onload_callbacks.forEach(function(callback) {\n        if (callback != null)\n          callback();\n      });\n    } finally {\n      delete root._bokeh_onload_callbacks\n    }\n    console.debug(\"Bokeh: all callbacks have finished\");\n  }\n\n  function load_libs(css_urls, js_urls, callback) {\n    if (css_urls == null) css_urls = [];\n    if (js_urls == null) js_urls = [];\n\n    root._bokeh_onload_callbacks.push(callback);\n    if (root._bokeh_is_loading > 0) {\n      console.debug(\"Bokeh: BokehJS is being loaded, scheduling callback at\", now());\n      return null;\n    }\n    if (js_urls == null || js_urls.length === 0) {\n      run_callbacks();\n      return null;\n    }\n    console.debug(\"Bokeh: BokehJS not loaded, scheduling load and callback at\", now());\n    root._bokeh_is_loading = css_urls.length + js_urls.length;\n\n    function on_load() {\n      root._bokeh_is_loading--;\n      if (root._bokeh_is_loading === 0) {\n        console.debug(\"Bokeh: all BokehJS libraries/stylesheets loaded\");\n        run_callbacks()\n      }\n    }\n\n    function on_error() {\n      console.error(\"failed to load \" + url);\n    }\n\n    for (var i = 0; i < css_urls.length; i++) {\n      var url = css_urls[i];\n      const element = document.createElement(\"link\");\n      element.onload = on_load;\n      element.onerror = on_error;\n      element.rel = \"stylesheet\";\n      element.type = \"text/css\";\n      element.href = url;\n      console.debug(\"Bokeh: injecting link tag for BokehJS stylesheet: \", url);\n      document.body.appendChild(element);\n    }\n\n    const hashes = {\"https://cdn.bokeh.org/bokeh/release/bokeh-2.2.3.min.js\": \"T2yuo9Oe71Cz/I4X9Ac5+gpEa5a8PpJCDlqKYO0CfAuEszu1JrXLl8YugMqYe3sM\", \"https://cdn.bokeh.org/bokeh/release/bokeh-widgets-2.2.3.min.js\": \"98GDGJ0kOMCUMUePhksaQ/GYgB3+NH9h996V88sh3aOiUNX3N+fLXAtry6xctSZ6\", \"https://cdn.bokeh.org/bokeh/release/bokeh-tables-2.2.3.min.js\": \"89bArO+nlbP3sgakeHjCo1JYxYR5wufVgA3IbUvDY+K7w4zyxJqssu7wVnfeKCq8\"};\n\n    for (var i = 0; i < js_urls.length; i++) {\n      var url = js_urls[i];\n      var element = document.createElement('script');\n      element.onload = on_load;\n      element.onerror = on_error;\n      element.async = false;\n      element.src = url;\n      if (url in hashes) {\n        element.crossOrigin = \"anonymous\";\n        element.integrity = \"sha384-\" + hashes[url];\n      }\n      console.debug(\"Bokeh: injecting script tag for BokehJS library: \", url);\n      document.head.appendChild(element);\n    }\n  };\n\n  function inject_raw_css(css) {\n    const element = document.createElement(\"style\");\n    element.appendChild(document.createTextNode(css));\n    document.body.appendChild(element);\n  }\n\n  \n  var js_urls = [\"https://cdn.bokeh.org/bokeh/release/bokeh-2.2.3.min.js\", \"https://cdn.bokeh.org/bokeh/release/bokeh-widgets-2.2.3.min.js\", \"https://cdn.bokeh.org/bokeh/release/bokeh-tables-2.2.3.min.js\"];\n  var css_urls = [];\n  \n\n  var inline_js = [\n    function(Bokeh) {\n      Bokeh.set_log_level(\"info\");\n    },\n    function(Bokeh) {\n    \n    \n    }\n  ];\n\n  function run_inline_js() {\n    \n    if (root.Bokeh !== undefined || force === true) {\n      \n    for (var i = 0; i < inline_js.length; i++) {\n      inline_js[i].call(root, root.Bokeh);\n    }\n    if (force === true) {\n        display_loaded();\n      }} else if (Date.now() < root._bokeh_timeout) {\n      setTimeout(run_inline_js, 100);\n    } else if (!root._bokeh_failed_load) {\n      console.log(\"Bokeh: BokehJS failed to load within specified timeout.\");\n      root._bokeh_failed_load = true;\n    } else if (force !== true) {\n      var cell = $(document.getElementById(\"1001\")).parents('.cell').data().cell;\n      cell.output_area.append_execute_result(NB_LOAD_WARNING)\n    }\n\n  }\n\n  if (root._bokeh_is_loading === 0) {\n    console.debug(\"Bokeh: BokehJS loaded, going straight to plotting\");\n    run_inline_js();\n  } else {\n    load_libs(css_urls, js_urls, function() {\n      console.debug(\"Bokeh: BokehJS plotting callback run at\", now());\n      run_inline_js();\n    });\n  }\n}(window));",
      "application/vnd.bokehjs_load.v0+json": "\n(function(root) {\n  function now() {\n    return new Date();\n  }\n\n  var force = true;\n\n  if (typeof root._bokeh_onload_callbacks === \"undefined\" || force === true) {\n    root._bokeh_onload_callbacks = [];\n    root._bokeh_is_loading = undefined;\n  }\n\n  \n\n  \n  if (typeof (root._bokeh_timeout) === \"undefined\" || force === true) {\n    root._bokeh_timeout = Date.now() + 5000;\n    root._bokeh_failed_load = false;\n  }\n\n  var NB_LOAD_WARNING = {'data': {'text/html':\n     \"<div style='background-color: #fdd'>\\n\"+\n     \"<p>\\n\"+\n     \"BokehJS does not appear to have successfully loaded. If loading BokehJS from CDN, this \\n\"+\n     \"may be due to a slow or bad network connection. Possible fixes:\\n\"+\n     \"</p>\\n\"+\n     \"<ul>\\n\"+\n     \"<li>re-rerun `output_notebook()` to attempt to load from CDN again, or</li>\\n\"+\n     \"<li>use INLINE resources instead, as so:</li>\\n\"+\n     \"</ul>\\n\"+\n     \"<code>\\n\"+\n     \"from bokeh.resources import INLINE\\n\"+\n     \"output_notebook(resources=INLINE)\\n\"+\n     \"</code>\\n\"+\n     \"</div>\"}};\n\n  function display_loaded() {\n    var el = document.getElementById(\"1001\");\n    if (el != null) {\n      el.textContent = \"BokehJS is loading...\";\n    }\n    if (root.Bokeh !== undefined) {\n      if (el != null) {\n        el.textContent = \"BokehJS \" + root.Bokeh.version + \" successfully loaded.\";\n      }\n    } else if (Date.now() < root._bokeh_timeout) {\n      setTimeout(display_loaded, 100)\n    }\n  }\n\n\n  function run_callbacks() {\n    try {\n      root._bokeh_onload_callbacks.forEach(function(callback) {\n        if (callback != null)\n          callback();\n      });\n    } finally {\n      delete root._bokeh_onload_callbacks\n    }\n    console.debug(\"Bokeh: all callbacks have finished\");\n  }\n\n  function load_libs(css_urls, js_urls, callback) {\n    if (css_urls == null) css_urls = [];\n    if (js_urls == null) js_urls = [];\n\n    root._bokeh_onload_callbacks.push(callback);\n    if (root._bokeh_is_loading > 0) {\n      console.debug(\"Bokeh: BokehJS is being loaded, scheduling callback at\", now());\n      return null;\n    }\n    if (js_urls == null || js_urls.length === 0) {\n      run_callbacks();\n      return null;\n    }\n    console.debug(\"Bokeh: BokehJS not loaded, scheduling load and callback at\", now());\n    root._bokeh_is_loading = css_urls.length + js_urls.length;\n\n    function on_load() {\n      root._bokeh_is_loading--;\n      if (root._bokeh_is_loading === 0) {\n        console.debug(\"Bokeh: all BokehJS libraries/stylesheets loaded\");\n        run_callbacks()\n      }\n    }\n\n    function on_error() {\n      console.error(\"failed to load \" + url);\n    }\n\n    for (var i = 0; i < css_urls.length; i++) {\n      var url = css_urls[i];\n      const element = document.createElement(\"link\");\n      element.onload = on_load;\n      element.onerror = on_error;\n      element.rel = \"stylesheet\";\n      element.type = \"text/css\";\n      element.href = url;\n      console.debug(\"Bokeh: injecting link tag for BokehJS stylesheet: \", url);\n      document.body.appendChild(element);\n    }\n\n    const hashes = {\"https://cdn.bokeh.org/bokeh/release/bokeh-2.2.3.min.js\": \"T2yuo9Oe71Cz/I4X9Ac5+gpEa5a8PpJCDlqKYO0CfAuEszu1JrXLl8YugMqYe3sM\", \"https://cdn.bokeh.org/bokeh/release/bokeh-widgets-2.2.3.min.js\": \"98GDGJ0kOMCUMUePhksaQ/GYgB3+NH9h996V88sh3aOiUNX3N+fLXAtry6xctSZ6\", \"https://cdn.bokeh.org/bokeh/release/bokeh-tables-2.2.3.min.js\": \"89bArO+nlbP3sgakeHjCo1JYxYR5wufVgA3IbUvDY+K7w4zyxJqssu7wVnfeKCq8\"};\n\n    for (var i = 0; i < js_urls.length; i++) {\n      var url = js_urls[i];\n      var element = document.createElement('script');\n      element.onload = on_load;\n      element.onerror = on_error;\n      element.async = false;\n      element.src = url;\n      if (url in hashes) {\n        element.crossOrigin = \"anonymous\";\n        element.integrity = \"sha384-\" + hashes[url];\n      }\n      console.debug(\"Bokeh: injecting script tag for BokehJS library: \", url);\n      document.head.appendChild(element);\n    }\n  };\n\n  function inject_raw_css(css) {\n    const element = document.createElement(\"style\");\n    element.appendChild(document.createTextNode(css));\n    document.body.appendChild(element);\n  }\n\n  \n  var js_urls = [\"https://cdn.bokeh.org/bokeh/release/bokeh-2.2.3.min.js\", \"https://cdn.bokeh.org/bokeh/release/bokeh-widgets-2.2.3.min.js\", \"https://cdn.bokeh.org/bokeh/release/bokeh-tables-2.2.3.min.js\"];\n  var css_urls = [];\n  \n\n  var inline_js = [\n    function(Bokeh) {\n      Bokeh.set_log_level(\"info\");\n    },\n    function(Bokeh) {\n    \n    \n    }\n  ];\n\n  function run_inline_js() {\n    \n    if (root.Bokeh !== undefined || force === true) {\n      \n    for (var i = 0; i < inline_js.length; i++) {\n      inline_js[i].call(root, root.Bokeh);\n    }\n    if (force === true) {\n        display_loaded();\n      }} else if (Date.now() < root._bokeh_timeout) {\n      setTimeout(run_inline_js, 100);\n    } else if (!root._bokeh_failed_load) {\n      console.log(\"Bokeh: BokehJS failed to load within specified timeout.\");\n      root._bokeh_failed_load = true;\n    } else if (force !== true) {\n      var cell = $(document.getElementById(\"1001\")).parents('.cell').data().cell;\n      cell.output_area.append_execute_result(NB_LOAD_WARNING)\n    }\n\n  }\n\n  if (root._bokeh_is_loading === 0) {\n    console.debug(\"Bokeh: BokehJS loaded, going straight to plotting\");\n    run_inline_js();\n  } else {\n    load_libs(css_urls, js_urls, function() {\n      console.debug(\"Bokeh: BokehJS plotting callback run at\", now());\n      run_inline_js();\n    });\n  }\n}(window));"
     },
     "metadata": {}
    }
   ],
   "source": [
    "#!/usr/bin/env python\n",
    "# -*- coding: utf-8 -*-\n",
    "\n",
    "import json\n",
    "import pandas as pd\n",
    "from datetime import datetime, date\n",
    "\n",
    "from bokeh.io import push_notebook, show, output_notebook\n",
    "from bokeh.plotting import figure\n",
    "from bokeh.models import ColumnDataSource\n",
    "from bokeh.palettes import viridis\n",
    "\n",
    "output_notebook()"
   ]
  },
  {
   "cell_type": "code",
   "execution_count": 2,
   "metadata": {},
   "outputs": [],
   "source": [
    "# Variables\n",
    "\n",
    "rutaJson = 'data/log20201028.json'\n",
    "timeFormat = '%H:%M:%S'\n",
    "dateFormat = '%Y-%m-%d %H:%M:%S'\n",
    "fechaGeneral = (2020, 10, 28)\n",
    "dataJson = None"
   ]
  },
  {
   "cell_type": "code",
   "execution_count": 3,
   "metadata": {},
   "outputs": [],
   "source": [
    "# Funciones\n",
    "\n",
    "def parseIntValue(registro):\n",
    "    # print(registro)\n",
    "    timeStr = \"{}-{}-{} {}\".format(*fechaGeneral,registro['time'])\n",
    "    \n",
    "    registro['time'] = datetime.strptime(timeStr, dateFormat)\n",
    "\n",
    "    if 'duration' in registro:\n",
    "        try:\n",
    "            registro['duration'] = int(registro['duration'])\n",
    "        except ValueError as err:\n",
    "            print(err.__str__())\n",
    "    return registro"
   ]
  },
  {
   "cell_type": "code",
   "execution_count": 4,
   "metadata": {},
   "outputs": [],
   "source": [
    "# Procesamiento\n",
    "\n",
    "with open(rutaJson) as f:\n",
    "    # data = pd.DataFrame(json.loads(line) for line in f)\n",
    "    dataJson = json.load(f)\n",
    "\n",
    "    # print(dataJson)\n",
    "\n",
    "    dataJson = list(map(parseIntValue, dataJson))\n"
   ]
  },
  {
   "cell_type": "code",
   "execution_count": 5,
   "metadata": {},
   "outputs": [
    {
     "output_type": "execute_result",
     "data": {
      "text/plain": [
       "         class                time  \\\n",
       "0       system 2020-10-28 23:04:53   \n",
       "1       system 2020-10-28 23:04:53   \n",
       "2    clipboard 2020-10-28 23:04:53   \n",
       "3       system 2020-10-28 23:05:16   \n",
       "4       system 2020-10-28 23:05:16   \n",
       "5          app 2020-10-28 23:04:54   \n",
       "6          app 2020-10-28 23:04:56   \n",
       "7          app 2020-10-28 23:04:57   \n",
       "8          app 2020-10-28 23:05:37   \n",
       "9          url 2020-10-28 23:05:37   \n",
       "10         app 2020-10-28 23:05:57   \n",
       "11         url 2020-10-28 23:05:57   \n",
       "12         app 2020-10-28 23:06:47   \n",
       "13         app 2020-10-28 23:06:49   \n",
       "14         app 2020-10-28 23:07:27   \n",
       "15  keystrokes 2020-10-28 23:08:27   \n",
       "16      system 2020-10-28 23:08:40   \n",
       "17         app 2020-10-28 23:07:56   \n",
       "18         app 2020-10-28 23:08:02   \n",
       "19         app 2020-10-28 23:08:03   \n",
       "20         url 2020-10-28 23:08:04   \n",
       "21         app 2020-10-28 23:08:20   \n",
       "22      system 2020-10-28 23:08:58   \n",
       "23         app 2020-10-28 23:08:42   \n",
       "24         app 2020-10-28 23:08:43   \n",
       "25         app 2020-10-28 23:08:45   \n",
       "26         url 2020-10-28 23:08:45   \n",
       "27      system 2020-10-28 23:09:24   \n",
       "\n",
       "                                               action  duration  \\\n",
       "0   23:04:53 New session for Scoowy. [DESKTOP-KD6G...       NaN   \n",
       "1   23:04:53 Basic account. Screenshots, Skype and...       NaN   \n",
       "2   23:04:53 Clipboard :https://www.softzone.es/20...       NaN   \n",
       "3   New session for Scoowy. [DESKTOP-KD6GQPP IP: 1...       NaN   \n",
       "4   Basic account. Screenshots, Skype and keystork...       NaN   \n",
       "5                                             Desktop      22.0   \n",
       "6                                        Kidlogger []       2.0   \n",
       "7                                 Cisco Packet Tracer      19.0   \n",
       "8   kidlogger.net/knowledgebase1.html y 3 pÃ¡ginas...       0.0   \n",
       "9   kidlogger.net/knowledgebase1.html y 3 pÃ¡ginas...      19.0   \n",
       "10  kidlogger.net/analitycs/log/b5x-rq-cda y 3 pÃ¡...       0.0   \n",
       "11  kidlogger.net/analitycs/log/b5x-rq-cda y 3 pÃ¡...      95.0   \n",
       "12                             ConmutaciÃ³n de tareas      16.0   \n",
       "13                                       Kidlogger []       4.0   \n",
       "14                                Cisco Packet Tracer       4.0   \n",
       "15                                               kidl       NaN   \n",
       "16                Desktop has been switched or locked       NaN   \n",
       "17                             ConmutaciÃ³n de tareas      18.0   \n",
       "18                                           WhatsApp       2.0   \n",
       "19  kidlogger.net/analitycs/log/b5x-rq-cda y 3 pÃ¡...       0.0   \n",
       "20  kidlogger.net/analitycs/log/b5x-rq-cda y 3 pÃ¡...      16.0   \n",
       "21                                            Cortana       7.0   \n",
       "22                Closing by the User or Installer...       NaN   \n",
       "23                                          KidLogger       2.0   \n",
       "24                                       Kidlogger []       4.0   \n",
       "25  kidlogger.net/analitycs/log/b5x-rq-cda y 3 pÃ¡...       0.0   \n",
       "26  kidlogger.net/analitycs/log/b5x-rq-cda y 3 pÃ¡...      11.0   \n",
       "27                    23:09:24 User opened statistics       NaN   \n",
       "\n",
       "   applicationName           href  \n",
       "0              NaN            NaN  \n",
       "1              NaN            NaN  \n",
       "2              NaN            NaN  \n",
       "3              NaN            NaN  \n",
       "4              NaN            NaN  \n",
       "5         explorer            NaN  \n",
       "6        Kidlogger            NaN  \n",
       "7    PacketTracer7            NaN  \n",
       "8           msedge            NaN  \n",
       "9              NaN  kidlogger.net  \n",
       "10          msedge            NaN  \n",
       "11             NaN  kidlogger.net  \n",
       "12        explorer            NaN  \n",
       "13       Kidlogger            NaN  \n",
       "14   PacketTracer7            NaN  \n",
       "15        SearchUI            NaN  \n",
       "16             NaN            NaN  \n",
       "17        explorer            NaN  \n",
       "18        WhatsApp            NaN  \n",
       "19          msedge            NaN  \n",
       "20             NaN  kidlogger.net  \n",
       "21        SearchUI            NaN  \n",
       "22             NaN            NaN  \n",
       "23        explorer            NaN  \n",
       "24       Kidlogger            NaN  \n",
       "25          msedge            NaN  \n",
       "26             NaN  kidlogger.net  \n",
       "27             NaN            NaN  "
      ],
      "text/html": "<div>\n<style scoped>\n    .dataframe tbody tr th:only-of-type {\n        vertical-align: middle;\n    }\n\n    .dataframe tbody tr th {\n        vertical-align: top;\n    }\n\n    .dataframe thead th {\n        text-align: right;\n    }\n</style>\n<table border=\"1\" class=\"dataframe\">\n  <thead>\n    <tr style=\"text-align: right;\">\n      <th></th>\n      <th>class</th>\n      <th>time</th>\n      <th>action</th>\n      <th>duration</th>\n      <th>applicationName</th>\n      <th>href</th>\n    </tr>\n  </thead>\n  <tbody>\n    <tr>\n      <th>0</th>\n      <td>system</td>\n      <td>2020-10-28 23:04:53</td>\n      <td>23:04:53 New session for Scoowy. [DESKTOP-KD6G...</td>\n      <td>NaN</td>\n      <td>NaN</td>\n      <td>NaN</td>\n    </tr>\n    <tr>\n      <th>1</th>\n      <td>system</td>\n      <td>2020-10-28 23:04:53</td>\n      <td>23:04:53 Basic account. Screenshots, Skype and...</td>\n      <td>NaN</td>\n      <td>NaN</td>\n      <td>NaN</td>\n    </tr>\n    <tr>\n      <th>2</th>\n      <td>clipboard</td>\n      <td>2020-10-28 23:04:53</td>\n      <td>23:04:53 Clipboard :https://www.softzone.es/20...</td>\n      <td>NaN</td>\n      <td>NaN</td>\n      <td>NaN</td>\n    </tr>\n    <tr>\n      <th>3</th>\n      <td>system</td>\n      <td>2020-10-28 23:05:16</td>\n      <td>New session for Scoowy. [DESKTOP-KD6GQPP IP: 1...</td>\n      <td>NaN</td>\n      <td>NaN</td>\n      <td>NaN</td>\n    </tr>\n    <tr>\n      <th>4</th>\n      <td>system</td>\n      <td>2020-10-28 23:05:16</td>\n      <td>Basic account. Screenshots, Skype and keystork...</td>\n      <td>NaN</td>\n      <td>NaN</td>\n      <td>NaN</td>\n    </tr>\n    <tr>\n      <th>5</th>\n      <td>app</td>\n      <td>2020-10-28 23:04:54</td>\n      <td>Desktop</td>\n      <td>22.0</td>\n      <td>explorer</td>\n      <td>NaN</td>\n    </tr>\n    <tr>\n      <th>6</th>\n      <td>app</td>\n      <td>2020-10-28 23:04:56</td>\n      <td>Kidlogger []</td>\n      <td>2.0</td>\n      <td>Kidlogger</td>\n      <td>NaN</td>\n    </tr>\n    <tr>\n      <th>7</th>\n      <td>app</td>\n      <td>2020-10-28 23:04:57</td>\n      <td>Cisco Packet Tracer</td>\n      <td>19.0</td>\n      <td>PacketTracer7</td>\n      <td>NaN</td>\n    </tr>\n    <tr>\n      <th>8</th>\n      <td>app</td>\n      <td>2020-10-28 23:05:37</td>\n      <td>kidlogger.net/knowledgebase1.html y 3 pÃ¡ginas...</td>\n      <td>0.0</td>\n      <td>msedge</td>\n      <td>NaN</td>\n    </tr>\n    <tr>\n      <th>9</th>\n      <td>url</td>\n      <td>2020-10-28 23:05:37</td>\n      <td>kidlogger.net/knowledgebase1.html y 3 pÃ¡ginas...</td>\n      <td>19.0</td>\n      <td>NaN</td>\n      <td>kidlogger.net</td>\n    </tr>\n    <tr>\n      <th>10</th>\n      <td>app</td>\n      <td>2020-10-28 23:05:57</td>\n      <td>kidlogger.net/analitycs/log/b5x-rq-cda y 3 pÃ¡...</td>\n      <td>0.0</td>\n      <td>msedge</td>\n      <td>NaN</td>\n    </tr>\n    <tr>\n      <th>11</th>\n      <td>url</td>\n      <td>2020-10-28 23:05:57</td>\n      <td>kidlogger.net/analitycs/log/b5x-rq-cda y 3 pÃ¡...</td>\n      <td>95.0</td>\n      <td>NaN</td>\n      <td>kidlogger.net</td>\n    </tr>\n    <tr>\n      <th>12</th>\n      <td>app</td>\n      <td>2020-10-28 23:06:47</td>\n      <td>ConmutaciÃ³n de tareas</td>\n      <td>16.0</td>\n      <td>explorer</td>\n      <td>NaN</td>\n    </tr>\n    <tr>\n      <th>13</th>\n      <td>app</td>\n      <td>2020-10-28 23:06:49</td>\n      <td>Kidlogger []</td>\n      <td>4.0</td>\n      <td>Kidlogger</td>\n      <td>NaN</td>\n    </tr>\n    <tr>\n      <th>14</th>\n      <td>app</td>\n      <td>2020-10-28 23:07:27</td>\n      <td>Cisco Packet Tracer</td>\n      <td>4.0</td>\n      <td>PacketTracer7</td>\n      <td>NaN</td>\n    </tr>\n    <tr>\n      <th>15</th>\n      <td>keystrokes</td>\n      <td>2020-10-28 23:08:27</td>\n      <td>kidl</td>\n      <td>NaN</td>\n      <td>SearchUI</td>\n      <td>NaN</td>\n    </tr>\n    <tr>\n      <th>16</th>\n      <td>system</td>\n      <td>2020-10-28 23:08:40</td>\n      <td>Desktop has been switched or locked</td>\n      <td>NaN</td>\n      <td>NaN</td>\n      <td>NaN</td>\n    </tr>\n    <tr>\n      <th>17</th>\n      <td>app</td>\n      <td>2020-10-28 23:07:56</td>\n      <td>ConmutaciÃ³n de tareas</td>\n      <td>18.0</td>\n      <td>explorer</td>\n      <td>NaN</td>\n    </tr>\n    <tr>\n      <th>18</th>\n      <td>app</td>\n      <td>2020-10-28 23:08:02</td>\n      <td>WhatsApp</td>\n      <td>2.0</td>\n      <td>WhatsApp</td>\n      <td>NaN</td>\n    </tr>\n    <tr>\n      <th>19</th>\n      <td>app</td>\n      <td>2020-10-28 23:08:03</td>\n      <td>kidlogger.net/analitycs/log/b5x-rq-cda y 3 pÃ¡...</td>\n      <td>0.0</td>\n      <td>msedge</td>\n      <td>NaN</td>\n    </tr>\n    <tr>\n      <th>20</th>\n      <td>url</td>\n      <td>2020-10-28 23:08:04</td>\n      <td>kidlogger.net/analitycs/log/b5x-rq-cda y 3 pÃ¡...</td>\n      <td>16.0</td>\n      <td>NaN</td>\n      <td>kidlogger.net</td>\n    </tr>\n    <tr>\n      <th>21</th>\n      <td>app</td>\n      <td>2020-10-28 23:08:20</td>\n      <td>Cortana</td>\n      <td>7.0</td>\n      <td>SearchUI</td>\n      <td>NaN</td>\n    </tr>\n    <tr>\n      <th>22</th>\n      <td>system</td>\n      <td>2020-10-28 23:08:58</td>\n      <td>Closing by the User or Installer...</td>\n      <td>NaN</td>\n      <td>NaN</td>\n      <td>NaN</td>\n    </tr>\n    <tr>\n      <th>23</th>\n      <td>app</td>\n      <td>2020-10-28 23:08:42</td>\n      <td>KidLogger</td>\n      <td>2.0</td>\n      <td>explorer</td>\n      <td>NaN</td>\n    </tr>\n    <tr>\n      <th>24</th>\n      <td>app</td>\n      <td>2020-10-28 23:08:43</td>\n      <td>Kidlogger []</td>\n      <td>4.0</td>\n      <td>Kidlogger</td>\n      <td>NaN</td>\n    </tr>\n    <tr>\n      <th>25</th>\n      <td>app</td>\n      <td>2020-10-28 23:08:45</td>\n      <td>kidlogger.net/analitycs/log/b5x-rq-cda y 3 pÃ¡...</td>\n      <td>0.0</td>\n      <td>msedge</td>\n      <td>NaN</td>\n    </tr>\n    <tr>\n      <th>26</th>\n      <td>url</td>\n      <td>2020-10-28 23:08:45</td>\n      <td>kidlogger.net/analitycs/log/b5x-rq-cda y 3 pÃ¡...</td>\n      <td>11.0</td>\n      <td>NaN</td>\n      <td>kidlogger.net</td>\n    </tr>\n    <tr>\n      <th>27</th>\n      <td>system</td>\n      <td>2020-10-28 23:09:24</td>\n      <td>23:09:24 User opened statistics</td>\n      <td>NaN</td>\n      <td>NaN</td>\n      <td>NaN</td>\n    </tr>\n  </tbody>\n</table>\n</div>"
     },
     "metadata": {},
     "execution_count": 5
    }
   ],
   "source": [
    "datos = pd.DataFrame(dataJson)\n",
    "datos"
   ]
  },
  {
   "cell_type": "code",
   "execution_count": 6,
   "metadata": {},
   "outputs": [
    {
     "output_type": "execute_result",
     "data": {
      "text/plain": [
       "   class                time  duration applicationName\n",
       "5    app 2020-10-28 23:04:54      22.0        explorer\n",
       "6    app 2020-10-28 23:04:56       2.0       Kidlogger\n",
       "7    app 2020-10-28 23:04:57      19.0   PacketTracer7\n",
       "8    app 2020-10-28 23:05:37       0.0          msedge\n",
       "10   app 2020-10-28 23:05:57       0.0          msedge\n",
       "12   app 2020-10-28 23:06:47      16.0        explorer\n",
       "13   app 2020-10-28 23:06:49       4.0       Kidlogger\n",
       "14   app 2020-10-28 23:07:27       4.0   PacketTracer7\n",
       "17   app 2020-10-28 23:07:56      18.0        explorer\n",
       "18   app 2020-10-28 23:08:02       2.0        WhatsApp\n",
       "19   app 2020-10-28 23:08:03       0.0          msedge\n",
       "21   app 2020-10-28 23:08:20       7.0        SearchUI\n",
       "23   app 2020-10-28 23:08:42       2.0        explorer\n",
       "24   app 2020-10-28 23:08:43       4.0       Kidlogger\n",
       "25   app 2020-10-28 23:08:45       0.0          msedge"
      ],
      "text/html": "<div>\n<style scoped>\n    .dataframe tbody tr th:only-of-type {\n        vertical-align: middle;\n    }\n\n    .dataframe tbody tr th {\n        vertical-align: top;\n    }\n\n    .dataframe thead th {\n        text-align: right;\n    }\n</style>\n<table border=\"1\" class=\"dataframe\">\n  <thead>\n    <tr style=\"text-align: right;\">\n      <th></th>\n      <th>class</th>\n      <th>time</th>\n      <th>duration</th>\n      <th>applicationName</th>\n    </tr>\n  </thead>\n  <tbody>\n    <tr>\n      <th>5</th>\n      <td>app</td>\n      <td>2020-10-28 23:04:54</td>\n      <td>22.0</td>\n      <td>explorer</td>\n    </tr>\n    <tr>\n      <th>6</th>\n      <td>app</td>\n      <td>2020-10-28 23:04:56</td>\n      <td>2.0</td>\n      <td>Kidlogger</td>\n    </tr>\n    <tr>\n      <th>7</th>\n      <td>app</td>\n      <td>2020-10-28 23:04:57</td>\n      <td>19.0</td>\n      <td>PacketTracer7</td>\n    </tr>\n    <tr>\n      <th>8</th>\n      <td>app</td>\n      <td>2020-10-28 23:05:37</td>\n      <td>0.0</td>\n      <td>msedge</td>\n    </tr>\n    <tr>\n      <th>10</th>\n      <td>app</td>\n      <td>2020-10-28 23:05:57</td>\n      <td>0.0</td>\n      <td>msedge</td>\n    </tr>\n    <tr>\n      <th>12</th>\n      <td>app</td>\n      <td>2020-10-28 23:06:47</td>\n      <td>16.0</td>\n      <td>explorer</td>\n    </tr>\n    <tr>\n      <th>13</th>\n      <td>app</td>\n      <td>2020-10-28 23:06:49</td>\n      <td>4.0</td>\n      <td>Kidlogger</td>\n    </tr>\n    <tr>\n      <th>14</th>\n      <td>app</td>\n      <td>2020-10-28 23:07:27</td>\n      <td>4.0</td>\n      <td>PacketTracer7</td>\n    </tr>\n    <tr>\n      <th>17</th>\n      <td>app</td>\n      <td>2020-10-28 23:07:56</td>\n      <td>18.0</td>\n      <td>explorer</td>\n    </tr>\n    <tr>\n      <th>18</th>\n      <td>app</td>\n      <td>2020-10-28 23:08:02</td>\n      <td>2.0</td>\n      <td>WhatsApp</td>\n    </tr>\n    <tr>\n      <th>19</th>\n      <td>app</td>\n      <td>2020-10-28 23:08:03</td>\n      <td>0.0</td>\n      <td>msedge</td>\n    </tr>\n    <tr>\n      <th>21</th>\n      <td>app</td>\n      <td>2020-10-28 23:08:20</td>\n      <td>7.0</td>\n      <td>SearchUI</td>\n    </tr>\n    <tr>\n      <th>23</th>\n      <td>app</td>\n      <td>2020-10-28 23:08:42</td>\n      <td>2.0</td>\n      <td>explorer</td>\n    </tr>\n    <tr>\n      <th>24</th>\n      <td>app</td>\n      <td>2020-10-28 23:08:43</td>\n      <td>4.0</td>\n      <td>Kidlogger</td>\n    </tr>\n    <tr>\n      <th>25</th>\n      <td>app</td>\n      <td>2020-10-28 23:08:45</td>\n      <td>0.0</td>\n      <td>msedge</td>\n    </tr>\n  </tbody>\n</table>\n</div>"
     },
     "metadata": {},
     "execution_count": 6
    }
   ],
   "source": [
    "is_app = datos.loc[:, 'class'] == 'app'\n",
    "df_app = datos.loc[is_app]\n",
    "df_app = df_app.loc[:, ['class', 'time', 'duration', 'applicationName']]\n",
    "df_app"
   ]
  },
  {
   "cell_type": "code",
   "execution_count": 7,
   "metadata": {},
   "outputs": [
    {
     "output_type": "execute_result",
     "data": {
      "text/plain": [
       "               x   top\n",
       "0      Kidlogger  10.0\n",
       "1  PacketTracer7  23.0\n",
       "2       SearchUI   7.0\n",
       "3       WhatsApp   2.0\n",
       "4       explorer  58.0\n",
       "5         msedge   0.0"
      ],
      "text/html": "<div>\n<style scoped>\n    .dataframe tbody tr th:only-of-type {\n        vertical-align: middle;\n    }\n\n    .dataframe tbody tr th {\n        vertical-align: top;\n    }\n\n    .dataframe thead th {\n        text-align: right;\n    }\n</style>\n<table border=\"1\" class=\"dataframe\">\n  <thead>\n    <tr style=\"text-align: right;\">\n      <th></th>\n      <th>x</th>\n      <th>top</th>\n    </tr>\n  </thead>\n  <tbody>\n    <tr>\n      <th>0</th>\n      <td>Kidlogger</td>\n      <td>10.0</td>\n    </tr>\n    <tr>\n      <th>1</th>\n      <td>PacketTracer7</td>\n      <td>23.0</td>\n    </tr>\n    <tr>\n      <th>2</th>\n      <td>SearchUI</td>\n      <td>7.0</td>\n    </tr>\n    <tr>\n      <th>3</th>\n      <td>WhatsApp</td>\n      <td>2.0</td>\n    </tr>\n    <tr>\n      <th>4</th>\n      <td>explorer</td>\n      <td>58.0</td>\n    </tr>\n    <tr>\n      <th>5</th>\n      <td>msedge</td>\n      <td>0.0</td>\n    </tr>\n  </tbody>\n</table>\n</div>"
     },
     "metadata": {},
     "execution_count": 7
    }
   ],
   "source": [
    "group = df_app.groupby('applicationName', as_index=False)['duration'].sum()\n",
    "group.rename(columns={'applicationName': 'x', 'duration': 'top'}, inplace=True)\n",
    "group"
   ]
  },
  {
   "cell_type": "code",
   "execution_count": 8,
   "metadata": {},
   "outputs": [
    {
     "output_type": "execute_result",
     "data": {
      "text/plain": [
       "('#440154', '#404387', '#29788E', '#22A784', '#79D151', '#FDE724')"
      ]
     },
     "metadata": {},
     "execution_count": 8
    }
   ],
   "source": [
    "source = ColumnDataSource(group)\n",
    "source.data\n",
    "\n",
    "aplications = list(group['x'])\n",
    "aplications\n",
    "\n",
    "colors = viridis(len(aplications))\n",
    "colors"
   ]
  },
  {
   "cell_type": "code",
   "execution_count": 9,
   "metadata": {},
   "outputs": [
    {
     "output_type": "display_data",
     "data": {
      "text/html": "\n\n\n\n\n\n  <div class=\"bk-root\" id=\"6d5a742d-a6ae-4f31-8841-8acaab0f4d5f\" data-root-id=\"1003\"></div>\n"
     },
     "metadata": {}
    },
    {
     "output_type": "display_data",
     "data": {
      "application/javascript": "(function(root) {\n  function embed_document(root) {\n    \n  var docs_json = {\"1d2b8b99-8748-4686-a86a-127dee24f531\":{\"roots\":{\"references\":[{\"attributes\":{\"below\":[{\"id\":\"1014\"}],\"center\":[{\"id\":\"1016\"},{\"id\":\"1020\"}],\"left\":[{\"id\":\"1017\"}],\"plot_width\":800,\"renderers\":[{\"id\":\"1038\"}],\"title\":{\"id\":\"1004\"},\"toolbar\":{\"id\":\"1028\"},\"x_range\":{\"id\":\"1006\"},\"x_scale\":{\"id\":\"1010\"},\"y_range\":{\"id\":\"1008\"},\"y_scale\":{\"id\":\"1012\"}},\"id\":\"1003\",\"subtype\":\"Figure\",\"type\":\"Plot\"},{\"attributes\":{},\"id\":\"1010\",\"type\":\"CategoricalScale\"},{\"attributes\":{},\"id\":\"1015\",\"type\":\"CategoricalTicker\"},{\"attributes\":{},\"id\":\"1021\",\"type\":\"PanTool\"},{\"attributes\":{\"axis\":{\"id\":\"1014\"},\"ticker\":null},\"id\":\"1016\",\"type\":\"Grid\"},{\"attributes\":{\"text\":\"Uso de aplicaciones\"},\"id\":\"1004\",\"type\":\"Title\"},{\"attributes\":{\"factors\":[\"Kidlogger\",\"PacketTracer7\",\"SearchUI\",\"WhatsApp\",\"explorer\",\"msedge\"]},\"id\":\"1006\",\"type\":\"FactorRange\"},{\"attributes\":{},\"id\":\"1026\",\"type\":\"HelpTool\"},{\"attributes\":{},\"id\":\"1046\",\"type\":\"Selection\"},{\"attributes\":{\"axis\":{\"id\":\"1017\"},\"dimension\":1,\"ticker\":null},\"id\":\"1020\",\"type\":\"Grid\"},{\"attributes\":{},\"id\":\"1047\",\"type\":\"UnionRenderers\"},{\"attributes\":{},\"id\":\"1022\",\"type\":\"WheelZoomTool\"},{\"attributes\":{},\"id\":\"1018\",\"type\":\"BasicTicker\"},{\"attributes\":{\"overlay\":{\"id\":\"1027\"}},\"id\":\"1023\",\"type\":\"BoxZoomTool\"},{\"attributes\":{\"axis_label\":\"Aplicaciones\",\"formatter\":{\"id\":\"1044\"},\"ticker\":{\"id\":\"1015\"}},\"id\":\"1014\",\"type\":\"CategoricalAxis\"},{\"attributes\":{},\"id\":\"1012\",\"type\":\"LinearScale\"},{\"attributes\":{\"data_source\":{\"id\":\"1002\"},\"glyph\":{\"id\":\"1036\"},\"hover_glyph\":null,\"muted_glyph\":null,\"nonselection_glyph\":{\"id\":\"1037\"},\"selection_glyph\":null,\"view\":{\"id\":\"1039\"}},\"id\":\"1038\",\"type\":\"GlyphRenderer\"},{\"attributes\":{},\"id\":\"1024\",\"type\":\"SaveTool\"},{\"attributes\":{},\"id\":\"1042\",\"type\":\"BasicTickFormatter\"},{\"attributes\":{\"active_drag\":\"auto\",\"active_inspect\":\"auto\",\"active_multi\":null,\"active_scroll\":\"auto\",\"active_tap\":\"auto\",\"tools\":[{\"id\":\"1021\"},{\"id\":\"1022\"},{\"id\":\"1023\"},{\"id\":\"1024\"},{\"id\":\"1025\"},{\"id\":\"1026\"}]},\"id\":\"1028\",\"type\":\"Toolbar\"},{\"attributes\":{\"source\":{\"id\":\"1002\"}},\"id\":\"1039\",\"type\":\"CDSView\"},{\"attributes\":{\"axis_label\":\"Tiempo\",\"formatter\":{\"id\":\"1042\"},\"ticker\":{\"id\":\"1018\"}},\"id\":\"1017\",\"type\":\"LinearAxis\"},{\"attributes\":{},\"id\":\"1025\",\"type\":\"ResetTool\"},{\"attributes\":{\"bottom_units\":\"screen\",\"fill_alpha\":0.5,\"fill_color\":\"lightgrey\",\"left_units\":\"screen\",\"level\":\"overlay\",\"line_alpha\":1.0,\"line_color\":\"black\",\"line_dash\":[4,4],\"line_width\":2,\"right_units\":\"screen\",\"top_units\":\"screen\"},\"id\":\"1027\",\"type\":\"BoxAnnotation\"},{\"attributes\":{},\"id\":\"1044\",\"type\":\"CategoricalTickFormatter\"},{\"attributes\":{\"fill_alpha\":{\"value\":0.1},\"fill_color\":{\"value\":\"#1f77b4\"},\"line_alpha\":{\"value\":0.1},\"line_color\":{\"value\":\"#1f77b4\"},\"top\":{\"field\":\"top\"},\"width\":{\"value\":0.5},\"x\":{\"field\":\"x\"}},\"id\":\"1037\",\"type\":\"VBar\"},{\"attributes\":{\"data\":{\"index\":[0,1,2,3,4,5],\"top\":{\"__ndarray__\":\"AAAAAAAAJEAAAAAAAAA3QAAAAAAAABxAAAAAAAAAAEAAAAAAAABNQAAAAAAAAAAA\",\"dtype\":\"float64\",\"order\":\"little\",\"shape\":[6]},\"x\":[\"Kidlogger\",\"PacketTracer7\",\"SearchUI\",\"WhatsApp\",\"explorer\",\"msedge\"]},\"selected\":{\"id\":\"1046\"},\"selection_policy\":{\"id\":\"1047\"}},\"id\":\"1002\",\"type\":\"ColumnDataSource\"},{\"attributes\":{},\"id\":\"1008\",\"type\":\"DataRange1d\"},{\"attributes\":{\"fill_color\":{\"value\":\"#1f77b4\"},\"line_color\":{\"value\":\"#1f77b4\"},\"top\":{\"field\":\"top\"},\"width\":{\"value\":0.5},\"x\":{\"field\":\"x\"}},\"id\":\"1036\",\"type\":\"VBar\"}],\"root_ids\":[\"1003\"]},\"title\":\"Bokeh Application\",\"version\":\"2.2.3\"}};\n  var render_items = [{\"docid\":\"1d2b8b99-8748-4686-a86a-127dee24f531\",\"root_ids\":[\"1003\"],\"roots\":{\"1003\":\"6d5a742d-a6ae-4f31-8841-8acaab0f4d5f\"}}];\n  root.Bokeh.embed.embed_items_notebook(docs_json, render_items);\n\n  }\n  if (root.Bokeh !== undefined) {\n    embed_document(root);\n  } else {\n    var attempts = 0;\n    var timer = setInterval(function(root) {\n      if (root.Bokeh !== undefined) {\n        clearInterval(timer);\n        embed_document(root);\n      } else {\n        attempts++;\n        if (attempts > 100) {\n          clearInterval(timer);\n          console.log(\"Bokeh: ERROR: Unable to run BokehJS code because BokehJS library is missing\");\n        }\n      }\n    }, 10, root)\n  }\n})(window);",
      "application/vnd.bokehjs_exec.v0+json": ""
     },
     "metadata": {
      "application/vnd.bokehjs_exec.v0+json": {
       "id": "1003"
      }
     }
    }
   ],
   "source": [
    "p1 = figure(title='Uso de aplicaciones', plot_width=800, plot_height=600, x_range=aplications, x_axis_label='Aplicaciones', y_axis_label='Tiempo')\n",
    "p1.vbar(x='x', top='top', width=0.5, source=source, bottom=0)\n",
    "show(p1)"
   ]
  },
  {
   "cell_type": "code",
   "execution_count": null,
   "metadata": {},
   "outputs": [],
   "source": []
  }
 ]
}